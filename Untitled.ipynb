{
 "cells": [
  {
   "cell_type": "code",
   "execution_count": 3,
   "metadata": {},
   "outputs": [
    {
     "name": "stdout",
     "output_type": "stream",
     "text": [
      "    math  science\n",
      "0     13        1\n",
      "1     20        1\n",
      "2     27        1\n",
      "3     39        1\n",
      "4     39        1\n",
      "5     32        1\n",
      "6     43        1\n",
      "7     43        1\n",
      "8     40        1\n",
      "9     48        1\n",
      "10    50        1\n",
      "11    51        1\n",
      "12    52        1\n",
      "13    53        1\n",
      "14    54        1\n",
      "15    67        1\n",
      "16    67        1\n",
      "17    67        1\n",
      "18    71        1\n",
      "19    80        1\n",
      "20    80        1\n",
      "21    80        1\n",
      "22    86        1\n",
      "23    88        1\n",
      "24    90        1\n",
      "25    91        1\n",
      "26    99        1\n",
      "27    90        1\n",
      "28    95        1\n",
      "29    95        1\n",
      "30   100        1\n",
      "31   100        1\n",
      "32   100        1\n",
      "33   100        1\n",
      "34   100        1\n",
      "35   100        1\n",
      "36   100        1\n",
      "37   100        1\n",
      "38   100        1\n",
      "39   100        1\n",
      "   math  science\n",
      "0    13        1\n",
      "1    20        1\n",
      "2    27        1\n",
      "3    39        1\n",
      "4    39        1\n",
      "[0, 0, 0, 0, 0, 0, 0, 0, 0, 0]\n",
      "度数: [0, 1, 2, 3, 4, 5, 3, 1, 5, 16]\n"
     ]
    },
    {
     "data": {
      "text/plain": [
       "<function matplotlib.pyplot.show(*args, **kw)>"
      ]
     },
     "execution_count": 3,
     "metadata": {},
     "output_type": "execute_result"
    },
    {
     "data": {
      "image/png": "[encoded data removed]",
      "text/plain": [
       "<Figure size 432x288 with 1 Axes>"
      ]
     },
     "metadata": {
      "needs_background": "light"
     },
     "output_type": "display_data"
    }
   ],
   "source": [
    "%matplotlib inline\n",
    "# coding: UTF-8\n",
    "\n",
    "\n",
    "import pandas as pd\n",
    "import matplotlib.pyplot as plt\n",
    "\n",
    "# csvデータを直接作成する方法\n",
    "df = pd.DataFrame({\n",
    "        'A' : [1, 2, 3],\n",
    "        'B' : [30, 4, 8]\n",
    "    })\n",
    "\n",
    "#print(df)\n",
    "\n",
    "\n",
    "# csvの読み込み\n",
    "dat = pd.read_csv('score2.csv', encoding='SHIFT-JIS')\n",
    "\n",
    "# 内容を確認\n",
    "print(dat)\n",
    "\n",
    "df2 = dat.head()\n",
    "print(df2)\n",
    "\n",
    "# 各階級に含まれる度数を数える\n",
    "hist = [0]*10\n",
    "print(hist)\n",
    "\n",
    "for dat in dat['math']:\n",
    "  if dat < 10: hist[0] += 1\n",
    "  elif dat < 20: hist[1] += 1\n",
    "  elif dat < 30: hist[2] += 1\n",
    "  elif dat < 40: hist[3] += 1\n",
    "  elif dat < 50: hist[4] += 1\n",
    "  elif dat < 60: hist[5] += 1\n",
    "  elif dat < 70: hist[6] += 1\n",
    "  elif dat < 80: hist[7] += 1\n",
    "  elif dat < 90: hist[8] += 1\n",
    "  elif dat <= 100: hist[9] += 1\n",
    "print('度数:', hist)\n",
    "\n",
    "# 度数分布図\n",
    "x = list(range(1,11))   # x軸の値\n",
    "labels = ['0-','10-','20-','30-','40-','50-','60-','70-','80-','90-']   # x軸のラベル\n",
    "plt.bar(x, hist, tick_label=labels, width=1)    # 棒グラフ描画\n",
    "plt.show\n"
   ]
  },
  {
   "cell_type": "code",
   "execution_count": null,
   "metadata": {},
   "outputs": [],
   "source": []
  }
 ],
 "metadata": {
  "kernelspec": {
   "display_name": "Python 3",
   "language": "python",
   "name": "python3"
  },
  "language_info": {
   "codemirror_mode": {
    "name": "ipython",
    "version": 3
   },
   "file_extension": ".py",
   "mimetype": "text/x-python",
   "name": "python",
   "nbconvert_exporter": "python",
   "pygments_lexer": "ipython3",
   "version": "3.7.0"
  }
 },
 "nbformat": 4,
 "nbformat_minor": 2
}
